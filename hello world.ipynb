{
 "cells": [
  {
   "cell_type": "code",
   "execution_count": 1,
   "metadata": {},
   "outputs": [
    {
     "name": "stdout",
     "output_type": "stream",
     "text": [
      "hello world\n"
     ]
    }
   ],
   "source": [
    "print(\"hello world\")"
   ]
  },
  {
   "cell_type": "code",
   "execution_count": 10,
   "metadata": {},
   "outputs": [
    {
     "data": {
      "text/plain": [
       "11"
      ]
     },
     "execution_count": 10,
     "metadata": {},
     "output_type": "execute_result"
    }
   ],
   "source": [
    "file=open('d:/pythonfiles/file3.txt','w')\n",
    "file.write('hello world')"
   ]
  },
  {
   "cell_type": "code",
   "execution_count": 55,
   "metadata": {},
   "outputs": [
    {
     "name": "stdout",
     "output_type": "stream",
     "text": [
      "Tom plays robet\n"
     ]
    }
   ],
   "source": [
    "what=' plays '\n",
    "who='Tom'\n",
    "name='robet'\n",
    "str1=who+what+name\n",
    "print(str1)"
   ]
  },
  {
   "cell_type": "code",
   "execution_count": 21,
   "metadata": {},
   "outputs": [
    {
     "name": "stdout",
     "output_type": "stream",
     "text": [
      "<class 'str'>\n",
      "<class 'int'>\n",
      "2\n",
      "1\n"
     ]
    }
   ],
   "source": [
    "num=1\n",
    "string='1'\n",
    "print(type(string))\n",
    "print(type(num))\n",
    "num2=int(string)\n",
    "print(num2+num)\n",
    "string2=int(num)\n",
    "print(string2)"
   ]
  },
  {
   "cell_type": "code",
   "execution_count": 22,
   "metadata": {
    "scrolled": true
   },
   "outputs": [
    {
     "name": "stdout",
     "output_type": "stream",
     "text": [
      "word word word \n"
     ]
    }
   ],
   "source": [
    "word='word '\n",
    "print(word*3)"
   ]
  },
  {
   "cell_type": "code",
   "execution_count": 25,
   "metadata": {},
   "outputs": [
    {
     "name": "stdout",
     "output_type": "stream",
     "text": [
      "bang!bang!bang!bang!bang!bang!\n"
     ]
    }
   ],
   "source": [
    "word='long word'\n",
    "num=3\n",
    "string='bang!'\n",
    "total=string*(len(word)-num)\n",
    "print(total)"
   ]
  },
  {
   "cell_type": "code",
   "execution_count": 35,
   "metadata": {},
   "outputs": [
    {
     "name": "stdout",
     "output_type": "stream",
     "text": [
      "m\n",
      ".\n",
      "my name is Mike.\n",
      "y name is Mike.\n",
      "y na\n",
      "m\n",
      "my name is Mike\n",
      "y name is Mik\n"
     ]
    }
   ],
   "source": [
    "name='my name is Mike.'\n",
    "print(name[0])\n",
    "print(name[-1])\n",
    "print(name[0:])\n",
    "print(name[1:])\n",
    "print(name[1:5])\n",
    "print(name[:1])\n",
    "print(name[:-1])\n",
    "print(name[1:-2])"
   ]
  },
  {
   "cell_type": "code",
   "execution_count": 41,
   "metadata": {},
   "outputs": [
    {
     "name": "stdout",
     "output_type": "stream",
     "text": [
      "fiend\n"
     ]
    }
   ],
   "source": [
    "word='friends'\n",
    "find=word[0]+word[2:4]+word[-3:-1]\n",
    "print(find)"
   ]
  },
  {
   "cell_type": "code",
   "execution_count": 42,
   "metadata": {},
   "outputs": [
    {
     "name": "stdout",
     "output_type": "stream",
     "text": [
      "0t6gp4.gif\n"
     ]
    }
   ],
   "source": [
    "url='http://ww3.site.cn/185cc87jw1ex23yyvq29j20jg0t6gp4.gif'\n",
    "filename=url[-10:]\n",
    "print(filename)"
   ]
  },
  {
   "cell_type": "code",
   "execution_count": 45,
   "metadata": {},
   "outputs": [
    {
     "name": "stdout",
     "output_type": "stream",
     "text": [
      "*********8900\n"
     ]
    }
   ],
   "source": [
    "phone='123-4567-8900'\n",
    "hide=phone.replace(phone[:9],'*'*9)\n",
    "print(hide)"
   ]
  },
  {
   "cell_type": "code",
   "execution_count": 7,
   "metadata": {},
   "outputs": [
    {
     "name": "stdout",
     "output_type": "stream",
     "text": [
      "3\n",
      "1\n",
      "6\n",
      "2\n",
      "6\n",
      "168 is at 1 to 3 of a.\n",
      "168 is at 6 to 8 of b.\n",
      "168 is at 2 to 4 of c.\n"
     ]
    }
   ],
   "source": [
    "search='168'\n",
    "a='0168000000'\n",
    "b='0000001680'\n",
    "c='0016816800'\n",
    "print(len(search))\n",
    "print(a.find(search))\n",
    "print(b.find(search))\n",
    "print(c.find(search))\n",
    "print(str(b.find(search)))\n",
    "print(search+' is at '+str(a.find(search))+' to '+str(a.find(search)+len(search)-1)+' of a.')\n",
    "print(search+' is at '+str(b.find(search))+' to '+str(b.find(search)+len(search)-1)+' of b.')\n",
    "print(search+' is at '+str(c.find(search))+' to '+str(c.find(search)+len(search)-1)+' of c.')"
   ]
  },
  {
   "cell_type": "code",
   "execution_count": 15,
   "metadata": {},
   "outputs": [
    {
     "name": "stdout",
     "output_type": "stream",
     "text": [
      "aaa is a loooooooooog word bbb\n",
      "bbb is a loooooooooog word aaaa\n",
      "bbb is a looooooooooog word aaa\n",
      "bbb is a loooooooooog word ccc\n"
     ]
    }
   ],
   "source": [
    "print('{} is a loooooooooog word {}'.format('aaa','bbb'))\n",
    "print('{b} is a loooooooooog word {a}'.format(a='aaaa',b='bbb'))\n",
    "print('{1} is a looooooooooog word {0}'.format('aaa','bbb'))\n",
    "print('{1} is a loooooooooog word {2}'.format('aaaa','bbb','ccc'))"
   ]
  },
  {
   "cell_type": "code",
   "execution_count": 19,
   "metadata": {},
   "outputs": [
    {
     "name": "stdout",
     "output_type": "stream",
     "text": [
      "inputyourcity:hi world\n",
      "citypinyin=hi world\n"
     ]
    }
   ],
   "source": [
    "city=input('inputyourcity:')\n",
    "url='citypinyin={}'.format(city)\n",
    "print(url)"
   ]
  },
  {
   "cell_type": "code",
   "execution_count": null,
   "metadata": {},
   "outputs": [],
   "source": []
  }
 ],
 "metadata": {
  "kernelspec": {
   "display_name": "Python 3",
   "language": "python",
   "name": "python3"
  },
  "language_info": {
   "codemirror_mode": {
    "name": "ipython",
    "version": 3
   },
   "file_extension": ".py",
   "mimetype": "text/x-python",
   "name": "python",
   "nbconvert_exporter": "python",
   "pygments_lexer": "ipython3",
   "version": "3.6.5"
  }
 },
 "nbformat": 4,
 "nbformat_minor": 2
}
